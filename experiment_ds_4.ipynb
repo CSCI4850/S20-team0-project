{
 "cells": [
  {
   "cell_type": "code",
   "execution_count": 1,
   "metadata": {},
   "outputs": [],
   "source": [
    "import utils.hgg_utils as hu\n",
    "import tensorflow as tf\n",
    "import numpy as np\n",
    "import matplotlib.pyplot as plt\n",
    "%matplotlib inline\n",
    "from tqdm.notebook import tqdm \n",
    "from model import unet\n",
    "from utils.dice import dice_loss as dice\n",
    "from utils.dice import dice_coef as dice_coef\n",
    "from sklearn.utils import shuffle\n",
    "from IPython import display\n",
    "from tensorflow.keras.mixed_precision import experimental as mixed_precision\n",
    "import time\n",
    "import pickle\n",
    "import gc"
   ]
  },
  {
   "cell_type": "code",
   "execution_count": 2,
   "metadata": {},
   "outputs": [],
   "source": [
    "#policy = mixed_precision.Policy(\"float32\") \n",
    "policy = mixed_precision.Policy(\"mixed_float16\")\n",
    "mixed_precision.set_policy(policy)"
   ]
  },
  {
   "cell_type": "code",
   "execution_count": 3,
   "metadata": {},
   "outputs": [],
   "source": [
    "num_to_load = 5\n",
    "n_slices = 155\n"
   ]
  },
  {
   "cell_type": "markdown",
   "metadata": {},
   "source": [
    "# The val that varies between experiments"
   ]
  },
  {
   "cell_type": "code",
   "execution_count": 4,
   "metadata": {},
   "outputs": [],
   "source": [
    "ds = 4"
   ]
  },
  {
   "cell_type": "markdown",
   "metadata": {},
   "source": [
    "### Prepare to load in some input data and masks and remove outliers"
   ]
  },
  {
   "cell_type": "code",
   "execution_count": 5,
   "metadata": {},
   "outputs": [],
   "source": [
    "patients = hu.get_each_normalized_hgg_folder()\n",
    "patients = hu.remove_outliers(patients)\n",
    "\n",
    "masks = hu.get_each_hgg_folder()\n",
    "masks = hu.remove_outliers(masks)\n",
    "\n",
    "patients, masks = shuffle(patients, masks, random_state=1)"
   ]
  },
  {
   "cell_type": "markdown",
   "metadata": {},
   "source": [
    "### Train, Test indices"
   ]
  },
  {
   "cell_type": "code",
   "execution_count": 6,
   "metadata": {},
   "outputs": [],
   "source": [
    "train_data_ratio = 0.8"
   ]
  },
  {
   "cell_type": "code",
   "execution_count": 7,
   "metadata": {},
   "outputs": [
    {
     "name": "stdout",
     "output_type": "stream",
     "text": [
      "0\n"
     ]
    },
    {
     "data": {
      "text/plain": "194"
     },
     "execution_count": 7,
     "metadata": {},
     "output_type": "execute_result"
    }
   ],
   "source": [
    "train_start = 0\n",
    "train_stop = int(np.round(train_data_ratio * len(patients)))\n",
    "print(train_start)\n",
    "train_stop"
   ]
  },
  {
   "cell_type": "code",
   "execution_count": 8,
   "metadata": {},
   "outputs": [
    {
     "name": "stdout",
     "output_type": "stream",
     "text": [
      "194\n"
     ]
    },
    {
     "data": {
      "text/plain": "243"
     },
     "execution_count": 8,
     "metadata": {},
     "output_type": "execute_result"
    }
   ],
   "source": [
    "test_start = train_stop\n",
    "test_stop = len(patients)\n",
    "print(test_start)\n",
    "test_stop"
   ]
  },
  {
   "cell_type": "markdown",
   "metadata": {},
   "source": [
    "### Save paths for train "
   ]
  },
  {
   "cell_type": "code",
   "execution_count": 9,
   "metadata": {},
   "outputs": [],
   "source": [
    "train_data = patients[:test_start]\n",
    "train_masks = masks[:test_start]\n",
    "\n",
    "fname_train_data = \"ds_\"+str(ds)+\"_train_data.pkl\"\n",
    "fname_train_masks = \"ds_\"+str(ds)+\"_train_masks.pkl\"\n",
    "\n",
    "with open(fname_train_data, 'wb') as file_pi:\n",
    "    pickle.dump(train_data, file_pi)\n",
    "    \n",
    "with open(fname_train_masks, 'wb') as file_pi:\n",
    "    pickle.dump(train_masks, file_pi)"
   ]
  },
  {
   "cell_type": "markdown",
   "metadata": {},
   "source": [
    "### Save the paths for testing "
   ]
  },
  {
   "cell_type": "code",
   "execution_count": 10,
   "metadata": {},
   "outputs": [],
   "source": [
    "test_data = patients[test_start:]\n",
    "test_masks = masks[test_start:]\n",
    "\n",
    "fname_test_data = \"ds_\"+str(ds)+\"_test_data.pkl\"\n",
    "fname_test_masks = \"ds_\"+str(ds)+\"_test_masks.pkl\"\n",
    "\n",
    "with open(fname_test_data, 'wb') as file_pi:\n",
    "    pickle.dump(test_data, file_pi)\n",
    "    \n",
    "with open(fname_test_masks, 'wb') as file_pi:\n",
    "    pickle.dump(test_masks, file_pi)"
   ]
  },
  {
   "cell_type": "markdown",
   "metadata": {},
   "source": [
    "### Preallocate arrays to hold data & masks"
   ]
  },
  {
   "cell_type": "code",
   "execution_count": 11,
   "metadata": {},
   "outputs": [],
   "source": [
    "some_data = np.ones([ num_to_load*155, 240, 240, 4])\n",
    "some_masks = np.ones([ num_to_load*155, 240, 240, 1])"
   ]
  },
  {
   "cell_type": "code",
   "execution_count": 12,
   "metadata": {},
   "outputs": [],
   "source": [
    "def load_n_brains(data, start, stop, paths, end):\n",
    "\n",
    "    data_idx = 0\n",
    "    num_slices = 155\n",
    "    brains_seen = 0\n",
    "    \n",
    "    #for multimodal_tensor in tqdm(range(start, stop)):\n",
    "    for multimodal_tensor in range(start, stop):\n",
    "\n",
    "        if multimodal_tensor != end:\n",
    "            four_channel_scan = hu.reshape_tensor_with_slices_first(\n",
    "                                    hu.get_a_multimodal_tensor( \n",
    "                                                paths[multimodal_tensor] \n",
    "                                    )[data_idx]\n",
    "            )\n",
    "            #print(paths[multimodal_tensor])\n",
    "\n",
    "\n",
    "            for slic in range(num_slices):\n",
    "                data[slic+(num_slices*brains_seen),:,:,:] = four_channel_scan[slic,:,:,:]\n",
    "\n",
    "            brains_seen += 1\n",
    "        else:\n",
    "            break\n",
    "        \n",
    "    #print(multimodal_tensor)\n",
    "    return data"
   ]
  },
  {
   "cell_type": "code",
   "execution_count": 13,
   "metadata": {},
   "outputs": [],
   "source": [
    "def load_n_masks(data, start, stop, paths, end):\n",
    "\n",
    "    data_idx = 0\n",
    "    num_slices = 155\n",
    "    brains_seen = 0\n",
    "\n",
    "    for mask_idx in range(start, stop):\n",
    "        if mask_idx != end:\n",
    "\n",
    "            mask =  hu.reshape_tensor_with_slices_first(\n",
    "                                    hu.convert_mask_to_binary_mask(\n",
    "                                         hu.get_a_mask_tensor( paths[mask_idx] )\n",
    "\n",
    "                                   )\n",
    "            )\n",
    "            #print(paths[mask_idx])\n",
    "\n",
    "\n",
    "            for slic in range(num_slices):\n",
    "                data[slic+(num_slices*brains_seen),:,:,:] = mask[slic,:,:,:]\n",
    "\n",
    "            brains_seen += 1\n",
    "        else:\n",
    "            break\n",
    "            \n",
    "    return data"
   ]
  },
  {
   "cell_type": "markdown",
   "metadata": {},
   "source": [
    "### Train"
   ]
  },
  {
   "cell_type": "code",
   "execution_count": 14,
   "metadata": {},
   "outputs": [],
   "source": [
    "chunks = 39\n",
    "\n",
    "beg = 0\n",
    "end = num_to_load*155\n",
    "truncated = 155*(train_stop - ( (chunks-1) * num_to_load  ) )\n",
    "\n",
    "#truncated\n",
    "#155*(train_stop - ( (chunks-1) * num_to_load  ) )\n",
    "\n",
    "my_opt = tf.keras.optimizers.Adam(learning_rate=1e-5)"
   ]
  },
  {
   "cell_type": "code",
   "execution_count": 15,
   "metadata": {
    "scrolled": true
   },
   "outputs": [
    {
     "data": {
      "text/plain": "HBox(children=(FloatProgress(value=0.0, max=5.0), HTML(value='')))",
      "application/vnd.jupyter.widget-view+json": {
       "version_major": 2,
       "version_minor": 0,
       "model_id": "0dc13d8cf5ff4b55b24657a07a45dc41"
      }
     },
     "metadata": {},
     "output_type": "display_data"
    },
    {
     "name": "stdout",
     "output_type": "stream",
     "text": [
      "********************\n",
      "Run: 0\n",
      "Epoch 0 completed\n",
      "Elapsed time: 6.281456716855367 minutes\n",
      "Epoch 1 completed\n",
      "Elapsed time: 12.42411817709605 minutes\n",
      "Epoch 2 completed\n",
      "Elapsed time: 18.56976407766342 minutes\n",
      "Epoch 3 completed\n",
      "Elapsed time: 24.738404874006907 minutes\n",
      "Epoch 4 completed\n",
      "Elapsed time: 30.881374418735504 minutes\n",
      "Epoch 5 completed\n",
      "Elapsed time: 37.043267011642456 minutes\n",
      "Epoch 6 completed\n",
      "Elapsed time: 43.203418425718944 minutes\n",
      "Epoch 7 completed\n",
      "Elapsed time: 49.35093146165212 minutes\n",
      "Epoch 8 completed\n",
      "Elapsed time: 55.574229045708975 minutes\n",
      "Epoch 9 completed\n",
      "Elapsed time: 61.73570133050283 minutes\n",
      "Epoch 10 completed\n",
      "Elapsed time: 67.88629736502965 minutes\n",
      "Epoch 11 completed\n",
      "Elapsed time: 74.0407768646876 minutes\n",
      "Epoch 12 completed\n",
      "Elapsed time: 80.1841358780861 minutes\n",
      "Epoch 13 completed\n",
      "Elapsed time: 86.34899410009385 minutes\n",
      "Epoch 14 completed\n",
      "Elapsed time: 92.49589199225107 minutes\n",
      "Epoch 15 completed\n",
      "Elapsed time: 98.64944149653117 minutes\n",
      "Epoch 16 completed\n",
      "Elapsed time: 104.80744214057923 minutes\n",
      "Epoch 17 completed\n",
      "Elapsed time: 110.96244943936667 minutes\n",
      "Epoch 18 completed\n",
      "Elapsed time: 117.1079747358958 minutes\n",
      "Epoch 19 completed\n",
      "Elapsed time: 123.25883346398672 minutes\n",
      "\n",
      "\n",
      "Saving run 0 loss etc.\n",
      "Saving run 0 model weights as ds_4_run_0_model_weights.h5\n",
      "********************\n",
      "Run: 1\n",
      "Epoch 0 completed\n",
      "Elapsed time: 129.48057694037755 minutes\n",
      "Epoch 1 completed\n",
      "Elapsed time: 135.6361896554629 minutes\n",
      "Epoch 2 completed\n",
      "Elapsed time: 141.82609247366588 minutes\n",
      "Epoch 3 completed\n",
      "Elapsed time: 148.044693171978 minutes\n",
      "Epoch 4 completed\n",
      "Elapsed time: 154.3783932685852 minutes\n",
      "Epoch 5 completed\n",
      "Elapsed time: 160.56213006973266 minutes\n",
      "Epoch 6 completed\n",
      "Elapsed time: 166.71650245189667 minutes\n",
      "Epoch 7 completed\n",
      "Elapsed time: 172.91861702601116 minutes\n",
      "Epoch 8 completed\n",
      "Elapsed time: 179.11601574818295 minutes\n",
      "Epoch 9 completed\n",
      "Elapsed time: 185.26297446489335 minutes\n",
      "Epoch 10 completed\n",
      "Elapsed time: 191.407945116361 minutes\n",
      "Epoch 11 completed\n",
      "Elapsed time: 197.5922085205714 minutes\n",
      "Epoch 12 completed\n",
      "Elapsed time: 203.8076867898305 minutes\n",
      "Epoch 13 completed\n",
      "Elapsed time: 210.02102530399958 minutes\n",
      "Epoch 14 completed\n",
      "Elapsed time: 216.20760931571326 minutes\n",
      "Epoch 15 completed\n",
      "Elapsed time: 222.36556911071142 minutes\n",
      "Epoch 16 completed\n",
      "Elapsed time: 228.54829649925233 minutes\n",
      "Epoch 17 completed\n",
      "Elapsed time: 234.72793052196502 minutes\n",
      "Epoch 18 completed\n",
      "Elapsed time: 240.8858849644661 minutes\n",
      "Epoch 19 completed\n",
      "Elapsed time: 247.0970484495163 minutes\n",
      "\n",
      "\n",
      "Saving run 1 loss etc.\n",
      "Saving run 1 model weights as ds_4_run_1_model_weights.h5\n",
      "********************\n",
      "Run: 2\n",
      "Epoch 0 completed\n",
      "Elapsed time: 253.36141573985418 minutes\n",
      "Epoch 1 completed\n",
      "Elapsed time: 259.51834994157156 minutes\n",
      "Epoch 2 completed\n",
      "Elapsed time: 265.66338738203046 minutes\n",
      "Epoch 3 completed\n",
      "Elapsed time: 271.9127385218938 minutes\n",
      "Epoch 4 completed\n",
      "Elapsed time: 278.08222564458845 minutes\n",
      "Epoch 5 completed\n",
      "Elapsed time: 284.2338451107343 minutes\n",
      "Epoch 6 completed\n",
      "Elapsed time: 290.42380492687226 minutes\n",
      "Epoch 7 completed\n",
      "Elapsed time: 296.5675180673599 minutes\n",
      "Epoch 8 completed\n",
      "Elapsed time: 302.7324488560359 minutes\n",
      "Epoch 9 completed\n",
      "Elapsed time: 309.0530538638433 minutes\n",
      "Epoch 10 completed\n",
      "Elapsed time: 315.2180766264598 minutes\n",
      "Epoch 11 completed\n",
      "Elapsed time: 321.37239431937536 minutes\n",
      "Epoch 12 completed\n",
      "Elapsed time: 327.54091997941333 minutes\n",
      "Epoch 13 completed\n",
      "Elapsed time: 333.80761139392854 minutes\n",
      "Epoch 14 completed\n",
      "Elapsed time: 339.9577274044355 minutes\n",
      "Epoch 15 completed\n",
      "Elapsed time: 346.301162536939 minutes\n",
      "Epoch 16 completed\n",
      "Elapsed time: 352.5038297692935 minutes\n",
      "Epoch 17 completed\n",
      "Elapsed time: 358.75284771124524 minutes\n",
      "Epoch 18 completed\n",
      "Elapsed time: 364.90422771374386 minutes\n",
      "Epoch 19 completed\n",
      "Elapsed time: 371.0608228246371 minutes\n",
      "\n",
      "\n",
      "Saving run 2 loss etc.\n",
      "Saving run 2 model weights as ds_4_run_2_model_weights.h5\n",
      "********************\n",
      "Run: 3\n",
      "Epoch 0 completed\n",
      "Elapsed time: 377.26131615638735 minutes\n",
      "Epoch 1 completed\n",
      "Elapsed time: 383.390420683225 minutes\n",
      "Epoch 2 completed\n",
      "Elapsed time: 389.50663867394127 minutes\n",
      "Epoch 3 completed\n",
      "Elapsed time: 395.562840171655 minutes\n",
      "Epoch 4 completed\n",
      "Elapsed time: 401.78373722235364 minutes\n",
      "Epoch 5 completed\n",
      "Elapsed time: 407.960868704319 minutes\n",
      "Epoch 6 completed\n",
      "Elapsed time: 414.0288792014122 minutes\n",
      "Epoch 7 completed\n",
      "Elapsed time: 420.1447426080704 minutes\n",
      "Epoch 8 completed\n",
      "Elapsed time: 426.28352035681405 minutes\n",
      "Epoch 9 completed\n",
      "Elapsed time: 432.3495876431465 minutes\n",
      "Epoch 10 completed\n",
      "Elapsed time: 438.43487252394357 minutes\n",
      "Epoch 11 completed\n",
      "Elapsed time: 444.501726826032 minutes\n",
      "Epoch 12 completed\n",
      "Elapsed time: 450.55151643355686 minutes\n",
      "Epoch 13 completed\n",
      "Elapsed time: 456.671377881368 minutes\n",
      "Epoch 14 completed\n",
      "Elapsed time: 462.8692721486092 minutes\n",
      "Epoch 15 completed\n",
      "Elapsed time: 468.9928247769674 minutes\n",
      "Epoch 16 completed\n",
      "Elapsed time: 475.0963383475939 minutes\n",
      "Epoch 17 completed\n",
      "Elapsed time: 481.3056217551231 minutes\n",
      "Epoch 18 completed\n",
      "Elapsed time: 487.3737454334895 minutes\n",
      "Epoch 19 completed\n",
      "Elapsed time: 493.4885241985321 minutes\n",
      "\n",
      "\n",
      "Saving run 3 loss etc.\n",
      "Saving run 3 model weights as ds_4_run_3_model_weights.h5\n",
      "********************\n",
      "Run: 4\n",
      "Epoch 0 completed\n",
      "Elapsed time: 499.624540412426 minutes\n",
      "Epoch 1 completed\n",
      "Elapsed time: 505.78377112944924 minutes\n",
      "Epoch 2 completed\n",
      "Elapsed time: 511.96513681411744 minutes\n",
      "Epoch 3 completed\n",
      "Elapsed time: 518.0653427640597 minutes\n",
      "Epoch 4 completed\n",
      "Elapsed time: 524.1481399615606 minutes\n",
      "Epoch 5 completed\n",
      "Elapsed time: 530.332126434644 minutes\n",
      "Epoch 6 completed\n",
      "Elapsed time: 536.4183818340301 minutes\n",
      "Epoch 7 completed\n",
      "Elapsed time: 542.5757360696792 minutes\n",
      "Epoch 8 completed\n",
      "Elapsed time: 548.6448762019476 minutes\n",
      "Epoch 9 completed\n",
      "Elapsed time: 555.0241025010745 minutes\n",
      "Epoch 10 completed\n",
      "Elapsed time: 561.2485206604003 minutes\n",
      "Epoch 11 completed\n",
      "Elapsed time: 567.3331407229106 minutes\n",
      "Epoch 12 completed\n",
      "Elapsed time: 573.4342010855675 minutes\n",
      "Epoch 13 completed\n",
      "Elapsed time: 579.5295064846674 minutes\n",
      "Epoch 14 completed\n",
      "Elapsed time: 585.6308361887932 minutes\n",
      "Epoch 15 completed\n",
      "Elapsed time: 591.7506660342217 minutes\n",
      "Epoch 16 completed\n",
      "Elapsed time: 597.8491754412651 minutes\n",
      "Epoch 17 completed\n",
      "Elapsed time: 604.0251032193502 minutes\n",
      "Epoch 18 completed\n",
      "Elapsed time: 610.1483491539955 minutes\n",
      "Epoch 19 completed\n",
      "Elapsed time: 616.2383788148562 minutes\n",
      "\n",
      "\n",
      "Saving run 4 loss etc.\n",
      "Saving run 4 model weights as ds_4_run_4_model_weights.h5\n",
      "\n",
      "Total time: 616.2405385533968 minutes\n"
     ]
    },
    {
     "data": {
      "text/plain": "HBox(children=(FloatProgress(value=0.0, max=20.0), HTML(value='')))",
      "application/vnd.jupyter.widget-view+json": {
       "version_major": 2,
       "version_minor": 0,
       "model_id": "5d1f986c2c1f438ab0d48d3e0a318d18"
      }
     },
     "metadata": {},
     "output_type": "display_data"
    },
    {
     "data": {
      "text/plain": "HBox(children=(FloatProgress(value=0.0, max=20.0), HTML(value='')))",
      "application/vnd.jupyter.widget-view+json": {
       "version_major": 2,
       "version_minor": 0,
       "model_id": "d4e68afcddbb4bc6b2de22e96a2259ad"
      }
     },
     "metadata": {},
     "output_type": "display_data"
    },
    {
     "data": {
      "text/plain": "HBox(children=(FloatProgress(value=0.0, max=20.0), HTML(value='')))",
      "application/vnd.jupyter.widget-view+json": {
       "version_major": 2,
       "version_minor": 0,
       "model_id": "9877f327330b4c4689c692e883950765"
      }
     },
     "metadata": {},
     "output_type": "display_data"
    },
    {
     "data": {
      "text/plain": "HBox(children=(FloatProgress(value=0.0, max=20.0), HTML(value='')))",
      "application/vnd.jupyter.widget-view+json": {
       "version_major": 2,
       "version_minor": 0,
       "model_id": "97ead943d7f64254b234d8f81e9fe0f6"
      }
     },
     "metadata": {},
     "output_type": "display_data"
    },
    {
     "data": {
      "text/plain": "HBox(children=(FloatProgress(value=0.0, max=20.0), HTML(value='')))",
      "application/vnd.jupyter.widget-view+json": {
       "version_major": 2,
       "version_minor": 0,
       "model_id": "e3602c390542448d8a49cce874932aa4"
      }
     },
     "metadata": {},
     "output_type": "display_data"
    }
   ],
   "source": [
    "\n",
    "start_time = time.time()\n",
    "\n",
    "for run in tqdm(range(5)):\n",
    "    \n",
    "    print(\"********************\")\n",
    "    print(\"Run:\", run)\n",
    "    \n",
    "    model = unet( input_size=(240,240,4), ds=ds )\n",
    "    # Save architecture\n",
    "    model_json_name = \"unet_ds_{}.json\".format(ds)\n",
    "    with open(model_json_name, \"w\") as json_file:\n",
    "        json_file.write(model.to_json())\n",
    "        \n",
    "    model.compile(optimizer=my_opt, loss=dice, metrics=[dice_coef])\n",
    "    \n",
    "    run_history = []\n",
    "\n",
    "    for epoch in tqdm(range(20)):\n",
    "        \n",
    "        epoch_history = []\n",
    "        \n",
    "        for i in range(chunks):\n",
    "            #print(\"Loading chunk of data...\")\n",
    "            some_data = load_n_brains(some_data,  (num_to_load*i), (num_to_load*i)+num_to_load, patients, train_stop).astype(np.float32)\n",
    "            some_masks = load_n_masks(some_masks, (num_to_load*i), (num_to_load*i)+num_to_load, masks, train_stop).astype(np.float32)\n",
    "\n",
    "            some_data, some_masks = shuffle(some_data, some_masks, random_state=1)\n",
    "\n",
    "            if num_to_load*i+num_to_load <= train_stop:\n",
    "                history = model.fit(some_data[beg:end,...], some_masks[beg:end,...], validation_split=0.2, epochs=1, batch_size=16, verbose=0)\n",
    "\n",
    "            else:\n",
    "                history = model.fit(some_data[beg:truncated,...], some_masks[beg:truncated,...], validation_split=0.2, epochs=1, batch_size=16, verbose=0)\n",
    "\n",
    "\n",
    "            epoch_history.append(history.history)\n",
    "            gc.collect()\n",
    "        print(\"Epoch\", epoch, \"completed\")\n",
    "        print(\"Elapsed time:\", (time.time() - start_time)/60.0, \"minutes\" )\n",
    "        run_history.append(epoch_history)\n",
    "    \n",
    "    print()\n",
    "    print(\"Saving run\", run, \"loss etc.\")\n",
    "    history_name = \"ds_\"+str(ds)+\"_run_\" + str(run) +\"_histories.pkl\"\n",
    "\n",
    "    with open(history_name, 'wb') as file_pi:\n",
    "        pickle.dump(run_history, file_pi)\n",
    "    \n",
    "    model_weights_name = \"ds_\"+str(ds)+\"_run_\" + str(run) +\"_model_weights.h5\"\n",
    "    \n",
    "    print(\"Saving run\", run, \"model weights as\", model_weights_name)\n",
    "    model.save_weights(model_weights_name)\n",
    "    \n",
    "    del model\n",
    "    gc.collect()\n",
    "    \n",
    "print(\"Total time:\", (time.time() - start_time)/60.0, \"minutes\"  )"
   ]
  },
  {
   "cell_type": "code",
   "execution_count": 16,
   "metadata": {},
   "outputs": [],
   "source": [
    "#print( run_history[0].history )"
   ]
  },
  {
   "cell_type": "code",
   "execution_count": 16,
   "metadata": {},
   "outputs": [],
   "source": []
  },
  {
   "cell_type": "code",
   "execution_count": 16,
   "metadata": {},
   "outputs": [],
   "source": []
  },
  {
   "cell_type": "code",
   "execution_count": 16,
   "metadata": {},
   "outputs": [],
   "source": []
  }
 ],
 "metadata": {
  "kernelspec": {
   "display_name": "Python 3",
   "language": "python",
   "name": "python3"
  },
  "language_info": {
   "codemirror_mode": {
    "name": "ipython",
    "version": 3
   },
   "file_extension": ".py",
   "mimetype": "text/x-python",
   "name": "python",
   "nbconvert_exporter": "python",
   "pygments_lexer": "ipython3",
   "version": "3.6.8"
  }
 },
 "nbformat": 4,
 "nbformat_minor": 4
}