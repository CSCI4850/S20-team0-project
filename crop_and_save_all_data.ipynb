{
 "cells": [
  {
   "cell_type": "markdown",
   "metadata": {
    "collapsed": true,
    "pycharm": {
     "name": "#%% md\n"
    }
   },
   "source": [
    "# Purpose:\n",
    "Run this notebook to crop data and save to:\n",
    "~/MICCAI_BraTS_2019_Data_Training/MICCAI_BraTS_2019_Data_Training/cropped_hgg"
   ]
  },
  {
   "cell_type": "code",
   "source": [
    "import utils.hgg_utils as hu\n",
    "import nibabel as nib\n",
    "from tqdm.notebook import tqdm"
   ],
   "metadata": {
    "collapsed": false,
    "pycharm": {
     "name": "#%%\n"
    }
   },
   "execution_count": 7,
   "outputs": []
  },
  {
   "cell_type": "code",
   "execution_count": 8,
   "outputs": [],
   "source": [
    "\"\"\"\n",
    "LAYERS_TO_CROP refers to the number of outer layers of pixels to be cropped from the image.\n",
    "For example if layers_to_crop is set to 2:\n",
    "Input (6x6):        Output (2x2, - denotes cropped pixel):\n",
    "123456                  ------\n",
    "123456                  ------\n",
    "123456                  --34--\n",
    "123456                  --34--\n",
    "123456                  ------\n",
    "123456                  ------\n",
    "\"\"\"\n",
    "\n",
    "LAYERS_TO_CROP = 16"
   ],
   "metadata": {
    "collapsed": false,
    "pycharm": {
     "name": "#%%\n"
    }
   }
  },
  {
   "cell_type": "markdown",
   "source": [
    "### Function to save the cropped data:\n",
    "*** Code adapted from Lucas' code"
   ],
   "metadata": {
    "collapsed": false,
    "pycharm": {
     "name": "#%% md\n"
    }
   }
  },
  {
   "cell_type": "code",
   "execution_count": 9,
   "outputs": [],
   "source": [
    "def save_cropped_data(tensor, affines_list, mod_paths, destination):\n",
    "    patient_paths = [x.parent.stem for x in mod_paths]\n",
    "    mods = [x.name for x in mod_paths]\n",
    "\n",
    "    for modality in range(tensor.shape[-1]):\n",
    "\n",
    "        new_file_name = \"cropped_\" + str(mods[modality])\n",
    "\n",
    "        new_patient_folder = destination.joinpath(patient_paths[modality])\n",
    "\n",
    "        if not new_patient_folder.exists():\n",
    "            new_patient_folder.mkdir()\n",
    "\n",
    "        new_dest = new_patient_folder.joinpath(new_file_name)\n",
    "\n",
    "        a = nib.Nifti1Image(tensor[:, :, :, modality], affine=affines_list[modality])\n",
    "\n",
    "        nib.save(a, new_dest)"
   ],
   "metadata": {
    "collapsed": false,
    "pycharm": {
     "name": "#%%\n"
    }
   }
  },
  {
   "cell_type": "markdown",
   "source": [
    "### Function to crop the patient tensor"
   ],
   "metadata": {
    "collapsed": false,
    "pycharm": {
     "name": "#%% md\n"
    }
   }
  },
  {
   "cell_type": "code",
   "execution_count": 10,
   "outputs": [],
   "source": [
    "def crop_patient_tensor(tensor):\n",
    "    return tensor[LAYERS_TO_CROP : -LAYERS_TO_CROP, LAYERS_TO_CROP : -LAYERS_TO_CROP, :, :]"
   ],
   "metadata": {
    "collapsed": false,
    "pycharm": {
     "name": "#%%\n"
    }
   }
  },
  {
   "cell_type": "markdown",
   "source": [
    "### Crop and save the patient data"
   ],
   "metadata": {
    "collapsed": false,
    "pycharm": {
     "name": "#%% md\n"
    }
   }
  },
  {
   "cell_type": "code",
   "execution_count": 11,
   "outputs": [
    {
     "name": "stdout",
     "output_type": "stream",
     "text": [
      "Cropped slices will be saved in directory: \n",
      "/home/michael/Desktop/4850Project/MICCAI_BraTS_2019_Data_Training/MICCAI_BraTS_2019_Data_Training/cropped_hgg\n",
      "\n"
     ]
    },
    {
     "data": {
      "text/plain": "HBox(children=(FloatProgress(value=0.0, max=259.0), HTML(value='')))",
      "application/vnd.jupyter.widget-view+json": {
       "version_major": 2,
       "version_minor": 0,
       "model_id": "7918bc8288c542d7ab827b6185ffd830"
      }
     },
     "metadata": {},
     "output_type": "display_data"
    }
   ],
   "source": [
    "# Define name of folder to save data to\n",
    "cropped_hgg_directory = hu.get_hgg_paths().parent.joinpath('cropped_hgg')\n",
    "# Get paths to all patient folders\n",
    "all_patient_paths = hu.get_each_hgg_folder()\n",
    "\n",
    "# Print path to directory where data will be saved\n",
    "print(\"Cropped slices will be saved in directory: \")\n",
    "print(cropped_hgg_directory)\n",
    "\n",
    "# Check to see if directory folder already exists\n",
    "# before creating one.\n",
    "if not cropped_hgg_directory.exists():\n",
    "    cropped_hgg_directory.mkdir()\n",
    "\n",
    "# Iterate through each patient\n",
    "#   Load patient tensor\n",
    "#   Crop tensor\n",
    "#   Save tensor\n",
    "for patient in tqdm(all_patient_paths):\n",
    "    X, affines, paths = hu.get_a_multimodal_tensor(patient)\n",
    "    cropped_tensor = crop_patient_tensor(X)\n",
    "    save_cropped_data(cropped_tensor, affines, paths, cropped_hgg_directory)"
   ],
   "metadata": {
    "collapsed": false,
    "pycharm": {
     "name": "#%%\n"
    }
   }
  },
  {
   "cell_type": "code",
   "execution_count": null,
   "outputs": [],
   "source": [
    "\n"
   ],
   "metadata": {
    "collapsed": false,
    "pycharm": {
     "name": "#%%\n"
    }
   }
  }
 ],
 "metadata": {
  "kernelspec": {
   "display_name": "Python 3",
   "language": "python",
   "name": "python3"
  },
  "language_info": {
   "codemirror_mode": {
    "name": "ipython",
    "version": 2
   },
   "file_extension": ".py",
   "mimetype": "text/x-python",
   "name": "python",
   "nbconvert_exporter": "python",
   "pygments_lexer": "ipython2",
   "version": "2.7.6"
  }
 },
 "nbformat": 4,
 "nbformat_minor": 0
}