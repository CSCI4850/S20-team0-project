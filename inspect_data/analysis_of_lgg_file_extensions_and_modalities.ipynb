{
 "cells": [
  {
   "cell_type": "markdown",
   "metadata": {},
   "source": [
    "# Notebook Synopsis:"
   ]
  },
  {
   "cell_type": "markdown",
   "metadata": {},
   "source": [
    "- This notebook shows that there are 76 LGG folders\n",
    "- Each LGG folder contains exactly 5 files, all with the extension .nii.gz\n",
    "- Each folder contains exactly 1 of each of the following modalities in order:\n",
    "- flair, seg, t1, t1ce, t2"
   ]
  },
  {
   "cell_type": "code",
   "execution_count": 2,
   "metadata": {},
   "outputs": [],
   "source": [
    "import pathlib"
   ]
  },
  {
   "cell_type": "markdown",
   "metadata": {},
   "source": [
    "### Path to LGG folders"
   ]
  },
  {
   "cell_type": "code",
   "execution_count": 3,
   "metadata": {},
   "outputs": [],
   "source": [
    "lgg_path = pathlib.Path().cwd().joinpath(\"MICCAI_BraTS_2019_Data_Training\", \n",
    "                                         \"MICCAI_BraTS_2019_Data_Training\", \n",
    "                                         \"LGG\"\n",
    ")"
   ]
  },
  {
   "cell_type": "code",
   "execution_count": 4,
   "metadata": {},
   "outputs": [
    {
     "data": {
      "text/plain": [
       "WindowsPath('C:/Users/lucas/School/4850/leabra/MICCAI_BraTS_2019_Data_Training/MICCAI_BraTS_2019_Data_Training/LGG')"
      ]
     },
     "execution_count": 4,
     "metadata": {},
     "output_type": "execute_result"
    }
   ],
   "source": [
    "lgg_path"
   ]
  },
  {
   "cell_type": "markdown",
   "metadata": {},
   "source": [
    "#### List of all LGG folder paths"
   ]
  },
  {
   "cell_type": "code",
   "execution_count": 7,
   "metadata": {},
   "outputs": [],
   "source": [
    "lgg_brain_volume_folder_paths = sorted([ x for x in lgg_path.iterdir() ])"
   ]
  },
  {
   "cell_type": "markdown",
   "metadata": {},
   "source": [
    "# 76 LGG folders\n"
   ]
  },
  {
   "cell_type": "code",
   "execution_count": 8,
   "metadata": {},
   "outputs": [
    {
     "data": {
      "text/plain": [
       "76"
      ]
     },
     "execution_count": 8,
     "metadata": {},
     "output_type": "execute_result"
    }
   ],
   "source": [
    "len(lgg_brain_volume_folder_paths)"
   ]
  },
  {
   "cell_type": "markdown",
   "metadata": {},
   "source": [
    "### Each LGG folder should contain 5 files: t1, t2, t1ce, flair, seg... let's confirm"
   ]
  },
  {
   "cell_type": "markdown",
   "metadata": {},
   "source": [
    "#### Look at all paths to LGG folders"
   ]
  },
  {
   "cell_type": "code",
   "execution_count": 18,
   "metadata": {},
   "outputs": [],
   "source": [
    "#for folder_path in lgg_brain_volume_folder_paths:\n",
    "#    print(folder_path)\n",
    "#    print()"
   ]
  },
  {
   "cell_type": "markdown",
   "metadata": {},
   "source": [
    "#### Find number of files in each LGG folder"
   ]
  },
  {
   "cell_type": "code",
   "execution_count": 11,
   "metadata": {},
   "outputs": [],
   "source": [
    "unique_num_files_in_folders = set()\n",
    "\n",
    "for folder_path in lgg_brain_volume_folder_paths:\n",
    "    file_paths_in_folder = [x for x in folder_path.iterdir() ]\n",
    "    \n",
    "    unique_num_files_in_folders.add( len(file_paths_in_folder) )\n"
   ]
  },
  {
   "cell_type": "markdown",
   "metadata": {},
   "source": [
    "#### Each LGG folder contains exactly 5 files"
   ]
  },
  {
   "cell_type": "code",
   "execution_count": 12,
   "metadata": {},
   "outputs": [
    {
     "data": {
      "text/plain": [
       "{5}"
      ]
     },
     "execution_count": 12,
     "metadata": {},
     "output_type": "execute_result"
    }
   ],
   "source": [
    "unique_num_files_in_folders"
   ]
  },
  {
   "cell_type": "markdown",
   "metadata": {},
   "source": [
    "# Do these 5 files in each LGG folder have the expected extensions?\n",
    "# ie. every file should end with .nii.gz"
   ]
  },
  {
   "cell_type": "markdown",
   "metadata": {},
   "source": [
    "#### If no errors are printed from this cell, then every LGG file has extension .nii.gz"
   ]
  },
  {
   "cell_type": "code",
   "execution_count": 13,
   "metadata": {},
   "outputs": [],
   "source": [
    "# This matches the format that .suffixes will return\n",
    "expected_extensions = ['.nii', '.gz']\n",
    "\n",
    "all_lgg_file_paths = []\n",
    "\n",
    "for folder_path in lgg_brain_volume_folder_paths:\n",
    "    \n",
    "    file_paths_in_folder = [x for x in folder_path.iterdir() ]\n",
    "    \n",
    "    for file_path in file_paths_in_folder:\n",
    "        \n",
    "        all_lgg_file_paths.append(file_path)\n",
    "        \n",
    "        actual_extensions = file_path.suffixes\n",
    "        \n",
    "        # This will get called if a single file in the \n",
    "        if actual_extensions != expected_extensions:\n",
    "            print(\"Error, encountered:\", actual_extensions, \"at\", file_path)"
   ]
  },
  {
   "cell_type": "markdown",
   "metadata": {},
   "source": [
    "#### Checking LGG file extensions one more time with list filtering"
   ]
  },
  {
   "cell_type": "code",
   "execution_count": 14,
   "metadata": {},
   "outputs": [],
   "source": [
    "wrong_extensions = list(filter(lambda x: x.suffixes != ['.nii', '.gz'], all_lgg_file_paths))"
   ]
  },
  {
   "cell_type": "markdown",
   "metadata": {},
   "source": [
    "#### If list is exmpty then every LGG file has extension .nii.gz"
   ]
  },
  {
   "cell_type": "code",
   "execution_count": 15,
   "metadata": {},
   "outputs": [
    {
     "data": {
      "text/plain": [
       "[]"
      ]
     },
     "execution_count": 15,
     "metadata": {},
     "output_type": "execute_result"
    }
   ],
   "source": [
    "wrong_extensions"
   ]
  },
  {
   "cell_type": "markdown",
   "metadata": {},
   "source": [
    "# Do these 5 files in each LGG folder contain the expected modalities?\n",
    "# ie. t1, t2, t1ce, flair, seg"
   ]
  },
  {
   "cell_type": "markdown",
   "metadata": {},
   "source": [
    "#### Check that every LGG folder contains 1 of each modality in this order:\n",
    "#### flair.nii.gz,  seg.nii.gz, t1.nii.gz, t1ce.nii.gz, t2.nii.gz"
   ]
  },
  {
   "cell_type": "code",
   "execution_count": 16,
   "metadata": {},
   "outputs": [],
   "source": [
    "has_correct_modalities_and_order = set()\n",
    "\n",
    "for folder_path in lgg_brain_volume_folder_paths:\n",
    "    \n",
    "    file_paths_in_folder = [x for x in folder_path.iterdir() ]\n",
    "\n",
    "    for i in range(len(file_paths_in_folder)):\n",
    "        \n",
    "        if i == 0:\n",
    "            has_correct_modalities_and_order.add( \n",
    "                all_lgg_file_paths[i].match(\"*flair.nii.gz\") \n",
    "            )\n",
    "\n",
    "        elif i == 1:\n",
    "            has_correct_modalities_and_order.add( \n",
    "                all_lgg_file_paths[i].match(\"*seg.nii.gz\") \n",
    "            )\n",
    "        \n",
    "        elif i == 2:\n",
    "            has_correct_modalities_and_order.add( \n",
    "                all_lgg_file_paths[i].match(\"*t1.nii.gz\") \n",
    "            )\n",
    "        \n",
    "        elif i == 3:\n",
    "            has_correct_modalities_and_order.add( \n",
    "                all_lgg_file_paths[i].match(\"*t1ce.nii.gz\") \n",
    "            )\n",
    "        \n",
    "        elif i == 4:\n",
    "            has_correct_modalities_and_order.add( \n",
    "                all_lgg_file_paths[i].match(\"*t2.nii.gz\") \n",
    "            )"
   ]
  },
  {
   "cell_type": "markdown",
   "metadata": {},
   "source": [
    "#### This set will only contain True, if in each LGG folder, 1 of each modality is present in the expected order"
   ]
  },
  {
   "cell_type": "code",
   "execution_count": 17,
   "metadata": {},
   "outputs": [
    {
     "data": {
      "text/plain": [
       "{True}"
      ]
     },
     "execution_count": 17,
     "metadata": {},
     "output_type": "execute_result"
    }
   ],
   "source": [
    "has_correct_modalities_and_order"
   ]
  },
  {
   "cell_type": "code",
   "execution_count": null,
   "metadata": {},
   "outputs": [],
   "source": []
  }
 ],
 "metadata": {
  "kernelspec": {
   "display_name": "Python 3",
   "language": "python",
   "name": "python3"
  },
  "language_info": {
   "codemirror_mode": {
    "name": "ipython",
    "version": 3
   },
   "file_extension": ".py",
   "mimetype": "text/x-python",
   "name": "python",
   "nbconvert_exporter": "python",
   "pygments_lexer": "ipython3",
   "version": "3.7.6"
  }
 },
 "nbformat": 4,
 "nbformat_minor": 4
}
