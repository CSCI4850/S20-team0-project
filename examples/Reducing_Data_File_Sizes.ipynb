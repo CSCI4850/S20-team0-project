{
 "cells": [
  {
   "cell_type": "markdown",
   "metadata": {
    "collapsed": true,
    "pycharm": {
     "name": "#%% md\n",
     "is_executing": false
    }
   },
   "source": [
    "# Notebook Synopsis:\n",
    "\n",
    "Analyze data to determine how much images can be cropped\n",
    "- Potentially drop slices with no useful information  \n",
    "- Potentially remove outer layers of pixels with no useful information"
   ]
  },
  {
   "cell_type": "code",
   "execution_count": 43,
   "outputs": [],
   "source": [
    "import utils.hgg_utils as hu\n",
    "import numpy as np\n",
    "import nibabel as nib\n",
    "import matplotlib.pyplot as plt\n",
    "%matplotlib inline"
   ],
   "metadata": {
    "collapsed": false,
    "pycharm": {
     "name": "#%%\n",
     "is_executing": false
    }
   }
  },
  {
   "cell_type": "markdown",
   "source": [
    "### Determine how many slices do not provide any useful information\n",
    "\n",
    "If the total sum of all values in a slice is 0, the entire slice could be dropped to save space. This would be any\n",
    "slice that is completely black (first several and last several from every brain volume)."
   ],
   "metadata": {
    "collapsed": false,
    "pycharm": {
     "name": "#%% md\n"
    }
   }
  },
  {
   "cell_type": "code",
   "execution_count": 32,
   "outputs": [
    {
     "data": {
      "text/plain": "259"
     },
     "metadata": {},
     "output_type": "execute_result",
     "execution_count": 32
    }
   ],
   "source": [
    "# Grab all of the paths to patient brain volumes\n",
    "patients = hu.get_each_hgg_folder()\n",
    "len(patients)"
   ],
   "metadata": {
    "collapsed": false,
    "pycharm": {
     "name": "#%% \n",
     "is_executing": false
    }
   }
  },
  {
   "cell_type": "markdown",
   "source": [
    "#### Using single patient as example...\n",
    "The shape of the multimodal tensor is [240, 240, 155, 4] (pixel height, pixel width, slice id, modality)."
   ],
   "metadata": {
    "collapsed": false,
    "pycharm": {
     "name": "#%% md\n"
    }
   }
  },
  {
   "cell_type": "code",
   "execution_count": 33,
   "outputs": [],
   "source": [
    "example = hu.get_a_multimodal_tensor(patients[0])"
   ],
   "metadata": {
    "collapsed": false,
    "pycharm": {
     "name": "#%% \n",
     "is_executing": false
    }
   }
  },
  {
   "cell_type": "markdown",
   "source": [
    "The first slice should sum up to 0 and a slice somewhere in the middle should sum to be greater than 0."
   ],
   "metadata": {
    "collapsed": false,
    "pycharm": {
     "name": "#%% md\n"
    }
   }
  },
  {
   "cell_type": "code",
   "execution_count": 37,
   "outputs": [
    {
     "name": "stdout",
     "text": [
      "Sum of all pixel values across all modalities at slice 0:  0.0\n",
      "Sum of all pixel values across all modalities at slice 80:  32235912.0\n"
     ],
     "output_type": "stream"
    }
   ],
   "source": [
    "print(\"Sum of all pixel values across all modalities at slice 0: \", np.sum(example[:, :, 0, :]))\n",
    "print(\"Sum of all pixel values across all modalities at slice 80: \", np.sum(example[:, :, 80, :]))"
   ],
   "metadata": {
    "collapsed": false,
    "pycharm": {
     "name": "#%%\n",
     "is_executing": false
    }
   }
  },
  {
   "cell_type": "markdown",
   "source": [
    "#### Now across all slices"
   ],
   "metadata": {
    "collapsed": false,
    "pycharm": {
     "name": "#%% md\n"
    }
   }
  },
  {
   "cell_type": "code",
   "execution_count": 39,
   "outputs": [
    {
     "name": "stdout",
     "text": [
      "155\n",
      "[0.0, 0.0, 0.0, 0.0, 0.0, 0.0, 0.0, 0.0, 0.0, 0.0, 439320.0, 3090468.0, 3725616.0, 4195588.0, 4520144.0, 4895868.0, 5244224.0, 5620248.0, 5980032.0, 6339011.0, 6669441.0, 6976719.0, 7245903.0, 7515071.0, 7759279.0, 7988900.0, 8316932.0, 8605128.0, 9239795.0, 9726985.0, 10284045.0, 10776341.0, 11236091.0, 11780340.0, 12599178.0, 13103014.0, 13579158.0, 14051397.0, 14672825.0, 15337857.0, 16232483.0, 16918470.0, 17903604.0, 18688408.0, 19546700.0, 20205672.0, 20879156.0, 21374996.0, 21948412.0, 22465670.0, 22980534.0, 23388080.0, 23843582.0, 24732328.0, 25531426.0, 26778540.0, 27479474.0, 28237028.0, 29080988.0, 29575008.0, 29940456.0, 30357416.0, 30651328.0, 31042434.0, 31471904.0, 31933734.0, 32355670.0, 32626676.0, 32850444.0, 32939470.0, 33046396.0, 33025268.0, 33028520.0, 33013944.0, 33040024.0, 32941154.0, 32854556.0, 32691524.0, 32556662.0, 32423146.0, 32235912.0, 31950444.0, 31627508.0, 31356262.0, 31143150.0, 30912228.0, 30694020.0, 30470374.0, 30196132.0, 29895172.0, 29503540.0, 29091146.0, 28638152.0, 28143304.0, 27612356.0, 27072940.0, 26632408.0, 26116946.0, 25693640.0, 25365596.0, 25035992.0, 24664084.0, 24291772.0, 23860312.0, 23369980.0, 22836168.0, 22238450.0, 21649726.0, 21024380.0, 20482148.0, 19959676.0, 19486754.0, 18959320.0, 18482956.0, 17965038.0, 17429756.0, 16835338.0, 16263814.0, 15586860.0, 14945852.0, 14186642.0, 13578939.0, 12808060.0, 12156520.0, 11459645.0, 10871073.0, 10242628.0, 9644281.0, 8917284.0, 8218642.0, 7511978.0, 6713266.0, 6025969.0, 5359951.0, 4720450.0, 4044284.0, 3185245.0, 2211986.0, 1523720.0, 538649.0, 163337.0, 24796.0, 0.0, 0.0, 0.0, 0.0, 0.0, 0.0, 0.0, 0.0, 0.0, 0.0, 0.0, 0.0, 0.0]\n"
     ],
     "output_type": "stream"
    }
   ],
   "source": [
    "total_slice_pixel_value = []\n",
    "for i in range(155):\n",
    "    total_slice_pixel_value.append(np.sum(example[:, :, i, :]))\n",
    "    \n",
    "print(len(total_slice_pixel_value))\n",
    "print(total_slice_pixel_value)"
   ],
   "metadata": {
    "collapsed": false,
    "pycharm": {
     "name": "#%%\n",
     "is_executing": false
    }
   }
  },
  {
   "cell_type": "markdown",
   "source": [
    "##### Graph for visualization"
   ],
   "metadata": {
    "collapsed": false,
    "pycharm": {
     "name": "#%% md\n"
    }
   }
  },
  {
   "cell_type": "code",
   "execution_count": 52,
   "outputs": [
    {
     "data": {
      "text/plain": "<function matplotlib.pyplot.show(*args, **kw)>"
     },
     "metadata": {},
     "output_type": "execute_result",
     "execution_count": 52
    },
    {
     "data": {
      "text/plain": "<Figure size 432x288 with 1 Axes>",
      "image/png": "[encoded data removed]"
     },
     "metadata": {
      "needs_background": "light"
     },
     "output_type": "display_data"
    }
   ],
   "source": [
    "x = np.linspace(0, 154, 155)\n",
    "# Dividing values by 100,000 for easier visual\n",
    "y = np.array(total_slice_pixel_value)/100000\n",
    "\n",
    "plt.plot(x, y)\n",
    "plt.title('Total of pixel values of each slice in a brain volume')\n",
    "plt.xlabel('Slice IDs')\n",
    "plt.ylabel('Pixel sum (in 100ks)')\n",
    "plt.show\n"
   ],
   "metadata": {
    "collapsed": false,
    "pycharm": {
     "name": "#%%\n",
     "is_executing": false
    }
   }
  },
  {
   "cell_type": "markdown",
   "source": [
    "#### It appears that roughly the first 10 and last 15 slices are completely black."
   ],
   "metadata": {
    "collapsed": false,
    "pycharm": {
     "name": "#%% md\n"
    }
   }
  },
  {
   "cell_type": "code",
   "execution_count": 54,
   "outputs": [
    {
     "data": {
      "text/plain": "[0.0, 0.0, 0.0, 0.0, 0.0, 0.0, 0.0, 0.0, 0.0, 0.0, 439320.0, 3090468.0]"
     },
     "metadata": {},
     "output_type": "execute_result",
     "execution_count": 54
    }
   ],
   "source": [
    "total_slice_pixel_value[:12]"
   ],
   "metadata": {
    "collapsed": false,
    "pycharm": {
     "name": "#%%\n",
     "is_executing": false
    }
   }
  },
  {
   "cell_type": "code",
   "execution_count": 55,
   "outputs": [
    {
     "data": {
      "text/plain": "[163337.0,\n 24796.0,\n 0.0,\n 0.0,\n 0.0,\n 0.0,\n 0.0,\n 0.0,\n 0.0,\n 0.0,\n 0.0,\n 0.0,\n 0.0,\n 0.0,\n 0.0]"
     },
     "metadata": {},
     "output_type": "execute_result",
     "execution_count": 55
    }
   ],
   "source": [
    "total_slice_pixel_value[140:]"
   ],
   "metadata": {
    "collapsed": false,
    "pycharm": {
     "name": "#%%\n",
     "is_executing": false
    }
   }
  },
  {
   "cell_type": "markdown",
   "source": [
    "First 10 and last 13 to be exact. Dropping 23 slices would leave us with 132 slices per a volume.\n",
    "Which is about a 15% reduction in size. \n",
    "\n",
    "#### Next, calculate across all patient volumes to see if it holds true...\n"
   ],
   "metadata": {
    "collapsed": false,
    "pycharm": {
     "name": "#%% md\n"
    }
   }
  },
  {
   "cell_type": "code",
   "execution_count": 56,
   "outputs": [],
   "source": [
    "# Skipping patient at index 0 because we already have those values\n",
    "# Adding values onto total_slice_pixel_values in their corresponding spots\n",
    "for i in range(1, len(patients)):\n",
    "    brain_volume = hu.get_a_multimodal_tensor(patients[i])\n",
    "    for k in range(155):\n",
    "        total_slice_pixel_value[k] =+ np.sum(brain_volume[:, :, k, :])\n",
    "    "
   ],
   "metadata": {
    "collapsed": false,
    "pycharm": {
     "name": "#%% \n",
     "is_executing": false
    }
   }
  },
  {
   "cell_type": "markdown",
   "source": [
    "Honestly.... Taking longer than I expected \n",
    "\n",
    "Two full minutes later :D"
   ],
   "metadata": {
    "collapsed": false,
    "pycharm": {
     "name": "#%% md\n"
    }
   }
  },
  {
   "cell_type": "code",
   "execution_count": 57,
   "outputs": [
    {
     "data": {
      "text/plain": "[373323.0,\n 2559798.0,\n 7491794.0,\n 11085123.0,\n 14092696.0,\n 16619699.0,\n 18433624.0,\n 19752776.0,\n 20686556.0,\n 21630214.0,\n 22728508.0,\n 23718316.0]"
     },
     "metadata": {},
     "output_type": "execute_result",
     "execution_count": 57
    }
   ],
   "source": [
    "total_slice_pixel_value[:12]"
   ],
   "metadata": {
    "collapsed": false,
    "pycharm": {
     "name": "#%%\n",
     "is_executing": false
    }
   }
  },
  {
   "cell_type": "code",
   "execution_count": 58,
   "outputs": [
    {
     "data": {
      "text/plain": "[6319280.0,\n 4078400.0,\n 2207488.0,\n 768085.0,\n 105431.0,\n 138.0,\n 0.0,\n 0.0,\n 0.0,\n 0.0,\n 0.0,\n 0.0,\n 0.0,\n 0.0,\n 0.0]"
     },
     "metadata": {},
     "output_type": "execute_result",
     "execution_count": 58
    }
   ],
   "source": [
    "total_slice_pixel_value[140:]"
   ],
   "metadata": {
    "collapsed": false,
    "pycharm": {
     "name": "#%%\n",
     "is_executing": false
    }
   }
  },
  {
   "cell_type": "code",
   "execution_count": 61,
   "outputs": [
    {
     "data": {
      "text/plain": "<function matplotlib.pyplot.show(*args, **kw)>"
     },
     "metadata": {},
     "output_type": "execute_result",
     "execution_count": 61
    },
    {
     "data": {
      "text/plain": "<Figure size 432x288 with 1 Axes>",
      "image/png": "[encoded data removed]"
     },
     "metadata": {
      "needs_background": "light"
     },
     "output_type": "display_data"
    }
   ],
   "source": [
    "x = np.linspace(0, 154, 155)\n",
    "# Dividing values by 100,000 for easier visual\n",
    "y = np.array(total_slice_pixel_value)/100000\n",
    "\n",
    "plt.plot(x, y)\n",
    "plt.title('Total of pixel values of each slice in a brain volume')\n",
    "plt.xlabel('Slice IDs')\n",
    "plt.ylabel('Pixel sum (in 100ks)')\n",
    "plt.show"
   ],
   "metadata": {
    "collapsed": false,
    "pycharm": {
     "name": "#%%\n",
     "is_executing": false
    }
   }
  },
  {
   "cell_type": "markdown",
   "source": [
    "So... According to the chart there are only 8 slices across all modalities and all patients that can\n",
    "be completely dropped without losing any data at all. \n",
    "\n",
    "This is still a 5% reduction in size and \n",
    "brings up the question of how useful the slices that fall below 100k total pixel value (across all patients and slices) \n",
    "really are???"
   ],
   "metadata": {
    "collapsed": false,
    "pycharm": {
     "name": "#%% md\n"
    }
   }
  },
  {
   "cell_type": "markdown",
   "source": [
    "## How many outer layers of pixels could be cropped without losing useful information?\n"
   ],
   "metadata": {
    "collapsed": false,
    "pycharm": {
     "name": "#%% md\n"
    }
   }
  }
 ],
 "metadata": {
  "kernelspec": {
   "display_name": "Python 3",
   "language": "python",
   "name": "python3"
  },
  "language_info": {
   "codemirror_mode": {
    "name": "ipython",
    "version": 2
   },
   "file_extension": ".py",
   "mimetype": "text/x-python",
   "name": "python",
   "nbconvert_exporter": "python",
   "pygments_lexer": "ipython2",
   "version": "2.7.6"
  },
  "pycharm": {
   "stem_cell": {
    "cell_type": "raw",
    "source": [],
    "metadata": {
     "collapsed": false
    }
   }
  }
 },
 "nbformat": 4,
 "nbformat_minor": 0
}