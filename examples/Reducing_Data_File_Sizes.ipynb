{
 "cells": [
  {
   "cell_type": "markdown",
   "metadata": {
    "collapsed": true,
    "pycharm": {
     "is_executing": false,
     "name": "#%% md\n"
    }
   },
   "source": [
    "# Notebook Synopsis:\n",
    "\n",
    "Analyze data to determine how much images can be cropped\n",
    "- Potentially drop slices with no useful information  \n",
    "- Potentially remove outer layers of pixels with no useful information"
   ]
  },
  {
   "cell_type": "code",
   "execution_count": 2,
   "metadata": {
    "pycharm": {
     "is_executing": false,
     "name": "#%%\n"
    }
   },
   "outputs": [],
   "source": [
    "import utils.hgg_utils as hu\n",
    "import numpy as np\n",
    "import nibabel as nib\n",
    "import matplotlib.pyplot as plt\n",
    "%matplotlib inline"
   ]
  },
  {
   "cell_type": "markdown",
   "metadata": {
    "pycharm": {
     "name": "#%% md\n"
    }
   },
   "source": [
    "### Determine how many slices do not provide any useful information\n",
    "\n",
    "If the total sum of all values in a slice is 0, the entire slice could be dropped to save space. This would be any\n",
    "slice that is completely black (first several and last several from every brain volume)."
   ]
  },
  {
   "cell_type": "code",
   "execution_count": 3,
   "metadata": {
    "pycharm": {
     "is_executing": false,
     "name": "#%% \n"
    }
   },
   "outputs": [
    {
     "data": {
      "text/plain": "259"
     },
     "metadata": {},
     "output_type": "execute_result",
     "execution_count": 3
    }
   ],
   "source": [
    "# Grab all of the paths to patient brain volumes\n",
    "patients = hu.get_each_hgg_folder()\n",
    "len(patients)"
   ]
  },
  {
   "cell_type": "markdown",
   "metadata": {
    "pycharm": {
     "name": "#%% md\n"
    }
   },
   "source": [
    "#### Using single patient as example...\n",
    "The shape of the multimodal tensor is [240, 240, 155, 4] (pixel height, pixel width, slice id, modality)."
   ]
  },
  {
   "cell_type": "code",
   "execution_count": 4,
   "metadata": {
    "pycharm": {
     "is_executing": false,
     "name": "#%% \n"
    }
   },
   "outputs": [],
   "source": [
    "example = hu.get_a_multimodal_tensor(patients[0])"
   ]
  },
  {
   "cell_type": "markdown",
   "metadata": {
    "pycharm": {
     "name": "#%% md\n"
    }
   },
   "source": [
    "The first slice should sum up to 0 and a slice somewhere in the middle should sum to be greater than 0."
   ]
  },
  {
   "cell_type": "code",
   "execution_count": 37,
   "metadata": {
    "pycharm": {
     "is_executing": false,
     "name": "#%%\n"
    }
   },
   "outputs": [
    {
     "name": "stdout",
     "output_type": "stream",
     "text": [
      "Sum of all pixel values across all modalities at slice 0:  0.0\n",
      "Sum of all pixel values across all modalities at slice 80:  32235912.0\n"
     ]
    }
   ],
   "source": [
    "print(\"Sum of all pixel values across all modalities at slice 0: \", np.sum(example[:, :, 0, :]))\n",
    "print(\"Sum of all pixel values across all modalities at slice 80: \", np.sum(example[:, :, 80, :]))"
   ]
  },
  {
   "cell_type": "markdown",
   "metadata": {
    "pycharm": {
     "name": "#%% md\n"
    }
   },
   "source": [
    "#### Now across all slices"
   ]
  },
  {
   "cell_type": "code",
   "execution_count": 39,
   "metadata": {
    "pycharm": {
     "is_executing": false,
     "name": "#%%\n"
    }
   },
   "outputs": [
    {
     "name": "stdout",
     "output_type": "stream",
     "text": [
      "155\n",
      "[0.0, 0.0, 0.0, 0.0, 0.0, 0.0, 0.0, 0.0, 0.0, 0.0, 439320.0, 3090468.0, 3725616.0, 4195588.0, 4520144.0, 4895868.0, 5244224.0, 5620248.0, 5980032.0, 6339011.0, 6669441.0, 6976719.0, 7245903.0, 7515071.0, 7759279.0, 7988900.0, 8316932.0, 8605128.0, 9239795.0, 9726985.0, 10284045.0, 10776341.0, 11236091.0, 11780340.0, 12599178.0, 13103014.0, 13579158.0, 14051397.0, 14672825.0, 15337857.0, 16232483.0, 16918470.0, 17903604.0, 18688408.0, 19546700.0, 20205672.0, 20879156.0, 21374996.0, 21948412.0, 22465670.0, 22980534.0, 23388080.0, 23843582.0, 24732328.0, 25531426.0, 26778540.0, 27479474.0, 28237028.0, 29080988.0, 29575008.0, 29940456.0, 30357416.0, 30651328.0, 31042434.0, 31471904.0, 31933734.0, 32355670.0, 32626676.0, 32850444.0, 32939470.0, 33046396.0, 33025268.0, 33028520.0, 33013944.0, 33040024.0, 32941154.0, 32854556.0, 32691524.0, 32556662.0, 32423146.0, 32235912.0, 31950444.0, 31627508.0, 31356262.0, 31143150.0, 30912228.0, 30694020.0, 30470374.0, 30196132.0, 29895172.0, 29503540.0, 29091146.0, 28638152.0, 28143304.0, 27612356.0, 27072940.0, 26632408.0, 26116946.0, 25693640.0, 25365596.0, 25035992.0, 24664084.0, 24291772.0, 23860312.0, 23369980.0, 22836168.0, 22238450.0, 21649726.0, 21024380.0, 20482148.0, 19959676.0, 19486754.0, 18959320.0, 18482956.0, 17965038.0, 17429756.0, 16835338.0, 16263814.0, 15586860.0, 14945852.0, 14186642.0, 13578939.0, 12808060.0, 12156520.0, 11459645.0, 10871073.0, 10242628.0, 9644281.0, 8917284.0, 8218642.0, 7511978.0, 6713266.0, 6025969.0, 5359951.0, 4720450.0, 4044284.0, 3185245.0, 2211986.0, 1523720.0, 538649.0, 163337.0, 24796.0, 0.0, 0.0, 0.0, 0.0, 0.0, 0.0, 0.0, 0.0, 0.0, 0.0, 0.0, 0.0, 0.0]\n"
     ]
    }
   ],
   "source": [
    "total_slice_pixel_value = []\n",
    "for i in range(155):\n",
    "    total_slice_pixel_value.append(np.sum(example[:, :, i, :]))\n",
    "    \n",
    "print(len(total_slice_pixel_value))\n",
    "print(total_slice_pixel_value)"
   ]
  },
  {
   "cell_type": "markdown",
   "metadata": {
    "pycharm": {
     "name": "#%% md\n"
    }
   },
   "source": [
    "##### Graph for visualization"
   ]
  },
  {
   "cell_type": "code",
   "execution_count": 52,
   "metadata": {
    "pycharm": {
     "is_executing": false,
     "name": "#%%\n"
    }
   },
   "outputs": [
    {
     "data": {
      "text/plain": [
       "<function matplotlib.pyplot.show(*args, **kw)>"
      ]
     },
     "execution_count": 52,
     "metadata": {},
     "output_type": "execute_result"
    },
    {
     "data": {
      "image/png": "[encoded data removed]",
      "text/plain": [
       "<Figure size 432x288 with 1 Axes>"
      ]
     },
     "metadata": {
      "needs_background": "light"
     },
     "output_type": "display_data"
    }
   ],
   "source": [
    "x = np.linspace(0, 154, 155)\n",
    "# Dividing values by 100,000 for easier visual\n",
    "y = np.array(total_slice_pixel_value)/100000\n",
    "\n",
    "plt.plot(x, y)\n",
    "plt.title('Total of pixel values of each slice in a brain volume')\n",
    "plt.xlabel('Slice IDs')\n",
    "plt.ylabel('Pixel sum (in 100ks)')\n",
    "plt.show\n"
   ]
  },
  {
   "cell_type": "markdown",
   "metadata": {
    "pycharm": {
     "name": "#%% md\n"
    }
   },
   "source": [
    "#### It appears that roughly the first 10 and last 15 slices are completely black."
   ]
  },
  {
   "cell_type": "code",
   "execution_count": 54,
   "metadata": {
    "pycharm": {
     "is_executing": false,
     "name": "#%%\n"
    }
   },
   "outputs": [
    {
     "data": {
      "text/plain": [
       "[0.0, 0.0, 0.0, 0.0, 0.0, 0.0, 0.0, 0.0, 0.0, 0.0, 439320.0, 3090468.0]"
      ]
     },
     "execution_count": 54,
     "metadata": {},
     "output_type": "execute_result"
    }
   ],
   "source": [
    "total_slice_pixel_value[:12]"
   ]
  },
  {
   "cell_type": "code",
   "execution_count": 55,
   "metadata": {
    "pycharm": {
     "is_executing": false,
     "name": "#%%\n"
    }
   },
   "outputs": [
    {
     "data": {
      "text/plain": [
       "[163337.0,\n",
       " 24796.0,\n",
       " 0.0,\n",
       " 0.0,\n",
       " 0.0,\n",
       " 0.0,\n",
       " 0.0,\n",
       " 0.0,\n",
       " 0.0,\n",
       " 0.0,\n",
       " 0.0,\n",
       " 0.0,\n",
       " 0.0,\n",
       " 0.0,\n",
       " 0.0]"
      ]
     },
     "execution_count": 55,
     "metadata": {},
     "output_type": "execute_result"
    }
   ],
   "source": [
    "total_slice_pixel_value[140:]"
   ]
  },
  {
   "cell_type": "markdown",
   "metadata": {
    "pycharm": {
     "name": "#%% md\n"
    }
   },
   "source": [
    "First 10 and last 13 to be exact. Dropping 23 slices would leave us with 132 slices per a volume.\n",
    "Which is about a 15% reduction in size. \n",
    "\n",
    "#### Next, calculate across all patient volumes to see if it holds true...\n"
   ]
  },
  {
   "cell_type": "code",
   "execution_count": 56,
   "metadata": {
    "pycharm": {
     "is_executing": false,
     "name": "#%% \n"
    }
   },
   "outputs": [],
   "source": [
    "# Skipping patient at index 0 because we already have those values\n",
    "# Adding values onto total_slice_pixel_values in their corresponding spots\n",
    "for i in range(1, len(patients)):\n",
    "    brain_volume = hu.get_a_multimodal_tensor(patients[i])\n",
    "    for k in range(155):\n",
    "        total_slice_pixel_value[k] =+ np.sum(brain_volume[:, :, k, :])\n",
    "    "
   ]
  },
  {
   "cell_type": "markdown",
   "metadata": {
    "pycharm": {
     "name": "#%% md\n"
    }
   },
   "source": [
    "Honestly.... Taking longer than I expected \n",
    "\n",
    "Two full minutes later :D"
   ]
  },
  {
   "cell_type": "code",
   "execution_count": 57,
   "metadata": {
    "pycharm": {
     "is_executing": false,
     "name": "#%%\n"
    }
   },
   "outputs": [
    {
     "data": {
      "text/plain": [
       "[373323.0,\n",
       " 2559798.0,\n",
       " 7491794.0,\n",
       " 11085123.0,\n",
       " 14092696.0,\n",
       " 16619699.0,\n",
       " 18433624.0,\n",
       " 19752776.0,\n",
       " 20686556.0,\n",
       " 21630214.0,\n",
       " 22728508.0,\n",
       " 23718316.0]"
      ]
     },
     "execution_count": 57,
     "metadata": {},
     "output_type": "execute_result"
    }
   ],
   "source": [
    "total_slice_pixel_value[:12]"
   ]
  },
  {
   "cell_type": "code",
   "execution_count": 58,
   "metadata": {
    "pycharm": {
     "is_executing": false,
     "name": "#%%\n"
    }
   },
   "outputs": [
    {
     "data": {
      "text/plain": [
       "[6319280.0,\n",
       " 4078400.0,\n",
       " 2207488.0,\n",
       " 768085.0,\n",
       " 105431.0,\n",
       " 138.0,\n",
       " 0.0,\n",
       " 0.0,\n",
       " 0.0,\n",
       " 0.0,\n",
       " 0.0,\n",
       " 0.0,\n",
       " 0.0,\n",
       " 0.0,\n",
       " 0.0]"
      ]
     },
     "execution_count": 58,
     "metadata": {},
     "output_type": "execute_result"
    }
   ],
   "source": [
    "total_slice_pixel_value[140:]"
   ]
  },
  {
   "cell_type": "code",
   "execution_count": 61,
   "metadata": {
    "pycharm": {
     "is_executing": false,
     "name": "#%%\n"
    }
   },
   "outputs": [
    {
     "data": {
      "text/plain": [
       "<function matplotlib.pyplot.show(*args, **kw)>"
      ]
     },
     "execution_count": 61,
     "metadata": {},
     "output_type": "execute_result"
    },
    {
     "data": {
      "image/png": "[encoded data removed]",
      "text/plain": [
       "<Figure size 432x288 with 1 Axes>"
      ]
     },
     "metadata": {
      "needs_background": "light"
     },
     "output_type": "display_data"
    }
   ],
   "source": [
    "x = np.linspace(0, 154, 155)\n",
    "# Dividing values by 100,000 for easier visual\n",
    "y = np.array(total_slice_pixel_value)/100000\n",
    "\n",
    "plt.plot(x, y)\n",
    "plt.title('Total of pixel values of each slice in a brain volume')\n",
    "plt.xlabel('Slice IDs')\n",
    "plt.ylabel('Pixel sum (in 100ks)')\n",
    "plt.show"
   ]
  },
  {
   "cell_type": "markdown",
   "metadata": {
    "pycharm": {
     "name": "#%% md\n"
    }
   },
   "source": [
    "So... According to the chart there are only 8 slices across all modalities and all patients that can\n",
    "be completely dropped without losing any data at all. \n",
    "\n",
    "This is still a 5% reduction in size and \n",
    "brings up the question of how useful the slices that fall below 100k total pixel value (across all patients and slices) \n",
    "really are???"
   ]
  },
  {
   "cell_type": "markdown",
   "metadata": {
    "pycharm": {
     "name": "#%% md\n"
    }
   },
   "source": [
    "## How many outer layers of pixels could be cropped without losing useful information?\n",
    "\n",
    "To determine this I'll do something similar to what I did above. I'll take the sum of \n",
    "all values in rows/cols of the image slices, where that is 0 we can remove it. \n",
    "\n",
    "A couple things to keep in mind:\n",
    "- Images should remain a square\n",
    "- Total width and height of image will need to work with down sampling.\n",
    "Example 1: 240x240 -> 120x120 -> 60x60 -> 30x30 works well.\n",
    "Example 2: 230x230 -> 115x115 -> ... At this point we would have padding issues."
   ]
  },
  {
   "cell_type": "markdown",
   "metadata": {
    "pycharm": {
     "name": "#%% md\n"
    }
   },
   "source": [
    "#### Starting with just a single brain volume to example\n",
    "\n",
    "Only going to check the first and last 30 rows/cols."
   ]
  },
  {
   "cell_type": "code",
   "execution_count": 5,
   "metadata": {
    "pycharm": {
     "is_executing": false,
     "name": "#%%\n"
    }
   },
   "outputs": [],
   "source": [
    "rows_from_top = []\n",
    "rows_from_bottom = []\n",
    "cols_from_left = []\n",
    "cols_from_right = []\n",
    "\n",
    "for i in range(30):\n",
    "    # Sum of row i in all slices and modalities\n",
    "    rows_from_top.append(np.sum(example[i, :, :, :]))\n",
    "    # Sum of col i in all slices and modalities\n",
    "    cols_from_left.append(np.sum(example[:, i, :, :]))\n",
    "    \n",
    "for j in range(-1, -31, -1):\n",
    "    # Sum of row j in all slices and modalities\n",
    "    # Starts from the bottom i.e. sum of bottom row of image \n",
    "    # will be in rows_from_bottom[0]\n",
    "    rows_from_bottom.append((np.sum(example[j, :, :, :])))\n",
    "    # Sum of col j in all slices and modalities\n",
    "    cols_from_right.append(np.sum(example[:, j, :, :]))"
   ]
  },
  {
   "cell_type": "markdown",
   "metadata": {
    "pycharm": {
     "name": "#%% md\n"
    }
   },
   "source": [
    "#### Let's look at the results"
   ]
  },
  {
   "cell_type": "code",
   "execution_count": 6,
   "metadata": {
    "pycharm": {
     "is_executing": false,
     "name": "#%%\n"
    }
   },
   "outputs": [
    {
     "data": {
      "text/plain": "<function matplotlib.pyplot.show(*args, **kw)>"
     },
     "metadata": {},
     "output_type": "execute_result",
     "execution_count": 6
    },
    {
     "data": {
      "text/plain": "<Figure size 432x288 with 1 Axes>",
      "image/png": "[encoded data removed]"
     },
     "metadata": {
      "needs_background": "light"
     },
     "output_type": "display_data"
    }
   ],
   "source": [
    "x = np.linspace(0, 29, 30)\n",
    "y = rows_from_top\n",
    "\n",
    "plt.plot(x, y)\n",
    "plt.title('Total of pixel values of first 70 rows')\n",
    "plt.xlabel('Row num')\n",
    "plt.ylabel('Pixel sum')\n",
    "plt.show\n",
    "\n",
    "y = rows_from_bottom\n",
    "\n",
    "plt.plot(x, y)\n",
    "plt.title('Total of pixel values of first 70 rows')\n",
    "plt.xlabel('Row num')\n",
    "plt.ylabel('Pixel sum')\n",
    "plt.show\n",
    "\n",
    "y = cols_from_left\n",
    "\n",
    "plt.plot(x, y)\n",
    "plt.title('Total of pixel values of first 70 cols')\n",
    "plt.xlabel('Row num')\n",
    "plt.ylabel('Pixel sum')\n",
    "plt.show\n",
    "\n",
    "y = cols_from_right\n",
    "\n",
    "plt.plot(x, y)\n",
    "plt.title('Total of pixel values of first 70 layers')\n",
    "plt.xlabel('Row num')\n",
    "plt.ylabel('Pixel sum')\n",
    "plt.show"
   ]
  },
  {
   "cell_type": "markdown",
   "metadata": {
    "pycharm": {
     "name": "#%% md\n"
    }
   },
   "source": [
    "### The chart shows us that we start seeing values around 22 layers in.\n",
    "\n",
    "Still need to check the rest of the data but if we cropped the outside 20 layers of pixels \n",
    "the images would be 200x200.\n",
    "\n",
    "Down sampling would be 200x200 -> 100x100 -> 50x50 -> 25x25 which would work. Let's check the rest of the data.\n"
   ]
  },
  {
   "cell_type": "code",
   "execution_count": 7,
   "metadata": {
    "pycharm": {
     "is_executing": false,
     "name": "#%% \n"
    }
   },
   "outputs": [],
   "source": [
    "# Skipping patient at index 0 because we already have those values\n",
    "# Adding values onto corresponding spots in the arrays that we already have\n",
    "# Only going to do the first 30 layers this time.\n",
    "for i in range(1, len(patients)):\n",
    "    brain_volume = hu.get_a_multimodal_tensor(patients[i])\n",
    "    for k in range(30):\n",
    "        rows_from_top[k] += np.sum(brain_volume[k, :, :, :])\n",
    "        cols_from_left[k] += np.sum(brain_volume[:, k, :, :])\n",
    "    for j in range(-1, -31, -1):\n",
    "        rows_from_bottom[-j - 1] += np.sum(brain_volume[j, :, :, :])\n",
    "        cols_from_right[-j - 1] += np.sum(brain_volume[:, j, :, :])"
   ]
  },
  {
   "cell_type": "code",
   "execution_count": 8,
   "metadata": {
    "pycharm": {
     "is_executing": false,
     "name": "#%%\n"
    }
   },
   "outputs": [
    {
     "data": {
      "text/plain": "<function matplotlib.pyplot.show(*args, **kw)>"
     },
     "metadata": {},
     "output_type": "execute_result",
     "execution_count": 8
    },
    {
     "data": {
      "text/plain": "<Figure size 432x288 with 1 Axes>",
      "image/png": "[encoded data removed]"
     },
     "metadata": {
      "needs_background": "light"
     },
     "output_type": "display_data"
    }
   ],
   "source": [
    "x = np.linspace(0, 29, 30)\n",
    "y = rows_from_top\n",
    "\n",
    "plt.plot(x, y)\n",
    "plt.title('Total of pixel values of first 70 rows')\n",
    "plt.xlabel('Row num')\n",
    "plt.ylabel('Pixel sum')\n",
    "plt.show\n",
    "\n",
    "y = rows_from_bottom\n",
    "\n",
    "plt.plot(x, y)\n",
    "plt.title('Total of pixel values of first 70 rows')\n",
    "plt.xlabel('Row num')\n",
    "plt.ylabel('Pixel sum')\n",
    "plt.show\n",
    "\n",
    "y = cols_from_left\n",
    "\n",
    "plt.plot(x, y)\n",
    "plt.title('Total of pixel values of first 70 cols')\n",
    "plt.xlabel('Row num')\n",
    "plt.ylabel('Pixel sum')\n",
    "plt.show\n",
    "\n",
    "y = cols_from_right\n",
    "\n",
    "plt.plot(x, y)\n",
    "plt.title('Total of pixel values of first 70 layers')\n",
    "plt.xlabel('Row num')\n",
    "plt.ylabel('Pixel sum')\n",
    "plt.show\n"
   ]
  },
  {
   "cell_type": "markdown",
   "source": [
    "### The chart shows that we start seeing values in about the 20th layer"
   ],
   "metadata": {
    "collapsed": false,
    "pycharm": {
     "name": "#%% md\n"
    }
   }
  },
  {
   "cell_type": "code",
   "execution_count": 10,
   "outputs": [
    {
     "name": "stdout",
     "text": [
      "[0.0, 0.0, 0.0, 0.0, 0.0, 0.0, 0.0, 0.0, 0.0, 0.0, 0.0, 0.0, 0.0, 0.0, 0.0, 0.0, 0.0, 0.0, 0.0, 0.0]\n",
      "[0.0, 0.0, 0.0, 0.0, 0.0, 0.0, 0.0, 0.0, 0.0, 0.0, 0.0, 0.0, 0.0, 0.0, 0.0, 0.0, 0.0, 0.0, 0.0, 0.0]\n",
      "[0.0, 0.0, 0.0, 0.0, 0.0, 0.0, 0.0, 0.0, 0.0, 0.0, 0.0, 0.0, 0.0, 0.0, 0.0, 0.0, 0.0, 0.0, 0.0, 0.0]\n",
      "[0.0, 0.0, 0.0, 0.0, 0.0, 0.0, 0.0, 0.0, 0.0, 0.0, 0.0, 0.0, 0.0, 0.0, 0.0, 0.0, 0.0, 0.0, 0.0, 70837.0]\n"
     ],
     "output_type": "stream"
    }
   ],
   "source": [
    "print(rows_from_top[:20])\n",
    "print(rows_from_bottom[:20])\n",
    "print(cols_from_left[:20])\n",
    "print(cols_from_right[:20])"
   ],
   "metadata": {
    "collapsed": false,
    "pycharm": {
     "name": "#%% \n",
     "is_executing": false
    }
   }
  },
  {
   "cell_type": "markdown",
   "source": [
    "19th Layer to be exact. Meaning we can crop out the 18 outer most layers of pixel values without\n",
    "losing any useful data at all. Removing  18 layers would leave the images as a 204x204 pixels, which is about \n",
    "27.75% reduction in size."
   ],
   "metadata": {
    "collapsed": false,
    "pycharm": {
     "name": "#%% md\n"
    }
   }
  },
  {
   "cell_type": "markdown",
   "source": [
    "If we take a look at the unet diagram from the ordinal paper (https://arxiv.org/abs/1505.04597), the red arrows denote \n",
    "down sampling via max pooling. They pool using 2x2 squares which cut the image in half at each layer. "
   ],
   "metadata": {
    "collapsed": false,
    "pycharm": {
     "name": "#%% md\n"
    }
   }
  },
  {
   "cell_type": "markdown",
   "source": [
    "![](examples/unet_model.png)"
   ],
   "metadata": {
    "collapsed": false,
    "pycharm": {
     "name": "#%% md\n"
    }
   }
  },
  {
   "cell_type": "markdown",
   "source": [
    "If we consider our max pooling on an image that is size 204x204 we would have:\n",
    "\n",
    "204x204 -> 102x102 -> 51x51 -> then we would have to use some kind of padding to scale down further.\n",
    "\n",
    "If we decided to only crop out 16 layers the down sampling would go as:\n",
    "\n",
    "208x208 -> 104x104 -> 52x52 -> 26x26 -> 13x13\n",
    "\n",
    "Here we can scale down further without extra work of having to figure out handling padding. Doing this would still \n",
    "give us a 24.88% reduction in the size of our images. "
   ],
   "metadata": {
    "collapsed": false,
    "pycharm": {
     "name": "#%% md\n"
    }
   }
  }
 ],
 "metadata": {
  "kernelspec": {
   "display_name": "Python 3",
   "language": "python",
   "name": "python3"
  },
  "language_info": {
   "codemirror_mode": {
    "name": "ipython",
    "version": 3
   },
   "file_extension": ".py",
   "mimetype": "text/x-python",
   "name": "python",
   "nbconvert_exporter": "python",
   "pygments_lexer": "ipython3",
   "version": "3.7.6"
  },
  "pycharm": {
   "stem_cell": {
    "cell_type": "raw",
    "source": [],
    "metadata": {
     "collapsed": false
    }
   }
  }
 },
 "nbformat": 4,
 "nbformat_minor": 1
}