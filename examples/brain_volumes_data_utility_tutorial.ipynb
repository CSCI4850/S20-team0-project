{
 "cells": [
  {
   "cell_type": "markdown",
   "metadata": {},
   "source": [
    "# Potential utility for Brain Volume Data : Josh Ortner"
   ]
  },
  {
   "cell_type": "markdown",
   "metadata": {},
   "source": [
    "- I wrote this class as a way to group each of the corresponding slices across the different volumes of a single brain\n",
    "- Right now all it does is load the data and group each slice, but we can add different methods for preprocessing or pipeline\n",
    "- The biggest thing to requirement is that the code requires the data file structure to be formatted in the way that it was downloaded from the source: i.e. an example directory ('BraTS19_2013_4_1') contains 5 files: 4 volumes and a segmentation\n",
    "- Package requirements: nibabel"
   ]
  },
  {
   "cell_type": "code",
   "execution_count": null,
   "metadata": {},
   "outputs": [],
   "source": [
    "'''\n",
    "After loading, the data will be formated in the object as a list of dictionaries. \n",
    "Each dictionary contains a particular slice from each image type (a 2D numpy array) as well as an slice id.\n",
    "It looks something like this:\n",
    "\n",
    "[ { \"flair\": <2D numpy array>, \n",
    "    \"t1\"   : <2D numpy array>,\n",
    "    \"t1ce\" : <2D numpy array>,\n",
    "    \"t2\"   : <2D numpy array>,\n",
    "    \"seg\"  : <2D numpy array>,\n",
    "    \"s_id\" : 77 }, \n",
    "...]\n",
    "\n",
    "But there will be 155 dictionaries in the list, since thats how many slices each volume has\n",
    "'''"
   ]
  },
  {
   "cell_type": "code",
   "execution_count": 9,
   "metadata": {},
   "outputs": [
    {
     "name": "stdout",
     "output_type": "stream",
     "text": [
      "{'flair': array([[0., 0., 0., ..., 0., 0., 0.],\n",
      "       [0., 0., 0., ..., 0., 0., 0.],\n",
      "       [0., 0., 0., ..., 0., 0., 0.],\n",
      "       ...,\n",
      "       [0., 0., 0., ..., 0., 0., 0.],\n",
      "       [0., 0., 0., ..., 0., 0., 0.],\n",
      "       [0., 0., 0., ..., 0., 0., 0.]]),\n",
      " 's_id': 50,\n",
      " 'seg': array([[0., 0., 0., ..., 0., 0., 0.],\n",
      "       [0., 0., 0., ..., 0., 0., 0.],\n",
      "       [0., 0., 0., ..., 0., 0., 0.],\n",
      "       ...,\n",
      "       [0., 0., 0., ..., 0., 0., 0.],\n",
      "       [0., 0., 0., ..., 0., 0., 0.],\n",
      "       [0., 0., 0., ..., 0., 0., 0.]]),\n",
      " 't1': array([[0., 0., 0., ..., 0., 0., 0.],\n",
      "       [0., 0., 0., ..., 0., 0., 0.],\n",
      "       [0., 0., 0., ..., 0., 0., 0.],\n",
      "       ...,\n",
      "       [0., 0., 0., ..., 0., 0., 0.],\n",
      "       [0., 0., 0., ..., 0., 0., 0.],\n",
      "       [0., 0., 0., ..., 0., 0., 0.]]),\n",
      " 't1ce': array([[0., 0., 0., ..., 0., 0., 0.],\n",
      "       [0., 0., 0., ..., 0., 0., 0.],\n",
      "       [0., 0., 0., ..., 0., 0., 0.],\n",
      "       ...,\n",
      "       [0., 0., 0., ..., 0., 0., 0.],\n",
      "       [0., 0., 0., ..., 0., 0., 0.],\n",
      "       [0., 0., 0., ..., 0., 0., 0.]]),\n",
      " 't2': array([[0., 0., 0., ..., 0., 0., 0.],\n",
      "       [0., 0., 0., ..., 0., 0., 0.],\n",
      "       [0., 0., 0., ..., 0., 0., 0.],\n",
      "       ...,\n",
      "       [0., 0., 0., ..., 0., 0., 0.],\n",
      "       [0., 0., 0., ..., 0., 0., 0.],\n",
      "       [0., 0., 0., ..., 0., 0., 0.]])}\n"
     ]
    }
   ],
   "source": [
    "import BrainVolumes\n",
    "import pprint\n",
    "\n",
    "# initialize with the directory to the 4 volumes and segmentation\n",
    "volume_dir = \"/home/josh/Desktop/py/envs/mri-cad/code/data/brats_training/HGG/BraTS19_2013_4_1\"\n",
    "brain_volumes = BrainVolumes.BrainVolumes(volume_dir)\n",
    "\n",
    "# call 'load_volume_data' to load the data into the object\n",
    "brain_volumes.load_volume_data()\n",
    "\n",
    "# see cell above for a better looking output, but this shows slice number 50 for each volume\n",
    "pprint.pprint(brain_volumes.volume_data[50])\n",
    "\n",
    "# you can also load a different brain volume by calling 'set_volumes_dir(new_directory)' with a new directory"
   ]
  },
  {
   "cell_type": "code",
   "execution_count": null,
   "metadata": {},
   "outputs": [],
   "source": []
  }
 ],
 "metadata": {
  "kernelspec": {
   "display_name": "Python 3",
   "language": "python",
   "name": "python3"
  },
  "language_info": {
   "codemirror_mode": {
    "name": "ipython",
    "version": 3
   },
   "file_extension": ".py",
   "mimetype": "text/x-python",
   "name": "python",
   "nbconvert_exporter": "python",
   "pygments_lexer": "ipython3",
   "version": "3.6.9"
  }
 },
 "nbformat": 4,
 "nbformat_minor": 4
}
