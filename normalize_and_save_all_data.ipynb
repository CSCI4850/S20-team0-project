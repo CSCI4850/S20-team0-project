{
 "cells": [
  {
   "cell_type": "markdown",
   "metadata": {},
   "source": [
    "# Synopsis:\n",
    "-iteratively load data, normalize it, and save it here .../MICCAI_BraTS_2019_Data_Training/MICCAI_BraTS_2019_Data_Training/normalized_hgg"
   ]
  },
  {
   "cell_type": "code",
   "execution_count": 1,
   "metadata": {},
   "outputs": [],
   "source": [
    "import utils.hgg_utils as hu\n",
    "import tensorflow as tf\n",
    "import numpy as np\n",
    "import matplotlib.pyplot as plt\n",
    "from tqdm.notebook import tqdm \n",
    "import nibabel as nib\n",
    "import pathlib\n",
    "\n"
   ]
  },
  {
   "cell_type": "markdown",
   "metadata": {},
   "source": [
    "# Func: Normalize "
   ]
  },
  {
   "cell_type": "code",
   "execution_count": 2,
   "metadata": {},
   "outputs": [],
   "source": [
    "def normalize_each_modality_by_its_max(a):\n",
    "\n",
    "    for modality_idx in range( a.shape[-1] ):    \n",
    "        a[:, :, :, modality_idx] /= a[:, :, :, modality_idx].max()"
   ]
  },
  {
   "cell_type": "markdown",
   "metadata": {},
   "source": [
    "# Func: Save the normalized files"
   ]
  },
  {
   "cell_type": "code",
   "execution_count": 3,
   "metadata": {},
   "outputs": [],
   "source": [
    "def save_data( multi_mod, affines_list, mod_paths, destination ):\n",
    "    \n",
    "    patient_paths = [ x.parent.stem for x in mod_paths ]\n",
    "    mods = [x.name for x in mod_paths]\n",
    "        \n",
    "    for modality in range(multi_mod.shape[-1]):\n",
    "        \n",
    "        new_file_name = \"normalized_\" + str(mods[modality])\n",
    "        \n",
    "        new_patient_folder = destination.joinpath(patient_paths[modality])\n",
    "        \n",
    "        if not new_patient_folder.exists():\n",
    "            new_patient_folder.mkdir()\n",
    "        \n",
    "        new_dest = new_patient_folder.joinpath(new_file_name)\n",
    "                \n",
    "        a = nib.Nifti1Image( multi_mod[:,:,:,modality], affine=affines_list[modality] )\n",
    "        \n",
    "        nib.save( a, new_dest )"
   ]
  },
  {
   "cell_type": "markdown",
   "metadata": {},
   "source": [
    "# Normalize and Save the files in folder: .../MICCAI_BraTS_2019_Data_Training/MICCAI_BraTS_2019_Data_Training/normalized_hgg"
   ]
  },
  {
   "cell_type": "code",
   "execution_count": 4,
   "metadata": {
    "scrolled": false
   },
   "outputs": [
    {
     "data": {
      "text/plain": "HBox(children=(FloatProgress(value=0.0, max=259.0), HTML(value='')))",
      "application/vnd.jupyter.widget-view+json": {
       "version_major": 2,
       "version_minor": 0,
       "model_id": "35082a60384b4b18a127dd5ccbaedc01"
      }
     },
     "metadata": {},
     "output_type": "display_data"
    },
    {
     "name": "stdout",
     "output_type": "stream",
     "text": [
      "\n"
     ]
    }
   ],
   "source": [
    "patient_paths = hu.get_each_hgg_folder()\n",
    "\n",
    "normalized_hgg = patient_paths[0].parent.parent \n",
    "normalized_hgg = normalized_hgg.joinpath(\"normalized_hgg\")\n",
    "\n",
    "#print(normalized_hgg)\n",
    "if not normalized_hgg.exists():\n",
    "    normalized_hgg.mkdir()\n",
    "    \n",
    "for patient in tqdm(patient_paths):\n",
    "     \n",
    "    X, affines, paths = hu.get_a_multimodal_tensor( patient )\n",
    "    \n",
    "    normalize_each_modality_by_its_max(X)\n",
    "    \n",
    "    save_data(X, affines, paths, normalized_hgg)\n"
   ]
  },
  {
   "cell_type": "code",
   "execution_count": null,
   "metadata": {},
   "outputs": [],
   "source": []
  }
 ],
 "metadata": {
  "kernelspec": {
   "display_name": "Python 3",
   "language": "python",
   "name": "python3"
  },
  "language_info": {
   "codemirror_mode": {
    "name": "ipython",
    "version": 3
   },
   "file_extension": ".py",
   "mimetype": "text/x-python",
   "name": "python",
   "nbconvert_exporter": "python",
   "pygments_lexer": "ipython3",
   "version": "3.7.6"
  }
 },
 "nbformat": 4,
 "nbformat_minor": 4
}