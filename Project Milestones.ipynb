{
 "cells": [
  {
   "cell_type": "markdown",
   "metadata": {},
   "source": [
    "# Milestone 1\n",
    "### Leabra -- Group 0:\n",
    "Brian Sharber, Christine Monchecourt, David Woods, Joshua Ortner, Joshua LaFever, Lucas Remedios\n",
    "\n"
   ]
  },
  {
   "cell_type": "markdown",
   "metadata": {},
   "source": [
    "\n",
    "| Deliverable  | Percent Complete | Estimated Completion Date | Percent Complete by Next Milestone |   \n",
    "|--------------|------------------|---------------------------|------------------------------------|\n",
    "| Code         | 15%              | Apr 14                    | 30%                                |   \n",
    "| Paper        | 15%              | Apr 21                    | 30%                                |   \n",
    "| Demo         |  0%              | May 1                     |  5%                                |   \n",
    "| Presentation |  0%              | May 5                     |  0%                                |\n"
   ]
  },
  {
   "cell_type": "markdown",
   "metadata": {},
   "source": [
    "### 1. What deliverable goals established in the last milestone report were accomplished to the anticipated percentage?"
   ]
  },
  {
   "cell_type": "markdown",
   "metadata": {},
   "source": [
    "There was no previous milestone. However, we have been able to download the data, programmatically open the image files, build a unet, and make a prediction on a single example."
   ]
  },
  {
   "cell_type": "markdown",
   "metadata": {},
   "source": [
    "### 2. What deliverable goals established in the last milestone report were were not accomplished to the anticipated percentage?"
   ]
  },
  {
   "cell_type": "markdown",
   "metadata": {},
   "source": [
    "N/A"
   ]
  },
  {
   "cell_type": "markdown",
   "metadata": {},
   "source": [
    "### 3. What are the main deliverable goals to meet before the next milestone report, and who is working on them?"
   ]
  },
  {
   "cell_type": "markdown",
   "metadata": {},
   "source": [
    "Code -- Have model able to train on unprocessed data. (Lucas)\n",
    "\n",
    "Code -- Have the ability to normalize data. (Joshua LaFever, Joshua Ortner)\n",
    "\n",
    "Code -- Have the ability to do some outlier detection (Christine, David)\n",
    "\n",
    "Paper/Demo -- More progress on paper and demo (Brian)\n"
   ]
  },
  {
   "cell_type": "markdown",
   "metadata": {},
   "source": [
    "# Milestone 2\n",
    "### Leabra -- Group 0:\n",
    "Brian Sharber, Christine Monchecourt, David Woods, Joshua Ortner, Joshua LaFever, Lucas Remedios\n",
    "\n"
   ]
  },
  {
   "cell_type": "markdown",
   "metadata": {},
   "source": [
    "\n",
    "| Deliverable  | Percent Complete | Estimated Completion Date | Percent Complete by Next Milestone |   \n",
    "|--------------|------------------|---------------------------|------------------------------------|\n",
    "| Code         | 40%              | Apr 14                    | 100%                               |   \n",
    "| Paper        | 30%              | Apr 21                    | 50%                                |   \n",
    "| Demo         |  0%              | May 1                     |  5%                                |   \n",
    "| Presentation |  0%              | May 5                     |  0%                                |\n"
   ]
  },
  {
   "cell_type": "markdown",
   "metadata": {},
   "source": [
    "### 1. What deliverable goals established in the last milestone report were accomplished to the anticipated percentage?"
   ]
  },
  {
   "cell_type": "markdown",
   "metadata": {},
   "source": [
    "The code and paper deliverables were accomplished to the anticipated percentage."
   ]
  },
  {
   "cell_type": "markdown",
   "metadata": {},
   "source": [
    "### 2. What deliverable goals established in the last milestone report were were not accomplished to the anticipated percentage?"
   ]
  },
  {
   "cell_type": "markdown",
   "metadata": {},
   "source": [
    "The demo was not accomplished to the anticipated percentage. It was premature to work on the demo due to needing to make progress on the code."
   ]
  },
  {
   "cell_type": "markdown",
   "metadata": {},
   "source": [
    "### 3. What are the main deliverable goals to meet before the next milestone report, and who is working on them?"
   ]
  },
  {
   "cell_type": "markdown",
   "metadata": {},
   "source": [
    "Code -- Have the model trained. (Lucas)\n",
    "\n",
    "Code -- Have the normalized data. (Joshua LaFever, Joshua Ortner)\n",
    "\n",
    "Code -- Images in dataset are cropped (David)\n",
    "\n",
    "Code -- Outliers are removed from the dataset (Christine, David)\n",
    "\n",
    "Paper/Demo -- More progress on paper and demo (Brian)\n"
   ]
  },
  {
   "cell_type": "markdown",
   "metadata": {},
   "source": [
    "# Milestone 3\n",
    "### Leabra -- Group 0:\n",
    "Brian Sharber, Christine Monchecourt, David Woods, Joshua Ortner, Joshua LaFever, Lucas Remedios\n",
    "\n"
   ]
  },
  {
   "cell_type": "markdown",
   "metadata": {},
   "source": [
    "\n",
    "| Deliverable  | Percent Complete | Estimated Completion Date | Percent Complete by Next Milestone |   \n",
    "|--------------|------------------|---------------------------|------------------------------------|\n",
    "| Code         | 95%              | Apr 16                    | 100%                               |   \n",
    "| Paper        | 30%              | Apr 21                    | 100%                               |   \n",
    "| Demo         |  0%              | May 1                     | 100%                               |   \n",
    "| Presentation |  0%              | May 5                     |  50%                               |\n"
   ]
  },
  {
   "cell_type": "markdown",
   "metadata": {},
   "source": [
    "### 1. What deliverable goals established in the last milestone report were accomplished to the anticipated percentage?"
   ]
  },
  {
   "cell_type": "markdown",
   "metadata": {},
   "source": [
    "None, however the code is almost completed."
   ]
  },
  {
   "cell_type": "markdown",
   "metadata": {},
   "source": [
    "### 2. What deliverable goals established in the last milestone report were were not accomplished to the anticipated percentage?"
   ]
  },
  {
   "cell_type": "markdown",
   "metadata": {},
   "source": [
    "- Code: wanted 100% completion, currently at 95% completion. Experiments completed--collecting data\n",
    "- Paper: need experiment data before moving forward\n",
    "- Demo: need experiment data before moving forward\n",
    "- Presentation: need experiment data before moving forward"
   ]
  },
  {
   "cell_type": "markdown",
   "metadata": {},
   "source": [
    "### 3. What are the main deliverable goals to meet before the next milestone report, and who is working on them?"
   ]
  },
  {
   "cell_type": "markdown",
   "metadata": {},
   "source": [
    "Finish Code -- (Lucas)\n",
    "\n",
    "Finish Paper -- (Brian, Christine, Lucas, Michael, LaFever, Ortner)\n",
    "\n",
    "Finish Demo -- (Lafever, Lucas, Michael)\n",
    "\n",
    "Work on Presentation -- (Christine, Ortner, Brian)\n"
   ]
  },
  {
   "cell_type": "code",
   "execution_count": null,
   "metadata": {},
   "outputs": [],
   "source": []
  }
 ],
 "metadata": {
  "kernelspec": {
   "display_name": "Python 3",
   "language": "python",
   "name": "python3"
  },
  "language_info": {
   "codemirror_mode": {
    "name": "ipython",
    "version": 3
   },
   "file_extension": ".py",
   "mimetype": "text/x-python",
   "name": "python",
   "nbconvert_exporter": "python",
   "pygments_lexer": "ipython3",
   "version": "3.7.6"
  }
 },
 "nbformat": 4,
 "nbformat_minor": 2
}
